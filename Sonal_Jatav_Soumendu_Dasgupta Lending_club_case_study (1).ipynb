{
 "cells": [
  {
   "cell_type": "markdown",
   "id": "08460f7c",
   "metadata": {
    "id": "08460f7c"
   },
   "source": [
    "## Lending Club Case Study"
   ]
  },
  {
   "cell_type": "markdown",
   "id": "bf05ebb1",
   "metadata": {
    "id": "bf05ebb1"
   },
   "source": [
    "### Objective:\n",
    "EDA on loan dataset to analyse factors predominant in defaulting loan repayment"
   ]
  },
  {
   "cell_type": "markdown",
   "id": "23844718",
   "metadata": {
    "id": "23844718"
   },
   "source": [
    "#### Problem Statement:\n",
    "\n",
    "A consumer finance company that lends different loans to urban customers wants to be able to assess the risks related to granting loan to a customer.\n",
    "\n",
    "Based on `risk assessment` company should be able to identify and `accept` or `reject` loan application.\n",
    "1. How likely a person is to default a loan and is a bad candidate to grant loan\n",
    "2. If a person is high risk then should the interest rate be increased\n",
    "3. Is the customer a good candidate to lend"
   ]
  },
  {
   "cell_type": "markdown",
   "id": "9fbe079f",
   "metadata": {
    "id": "9fbe079f"
   },
   "source": [
    "#### GOAL\n",
    "\n",
    "**Reduce `credit loss` for the company by evaluating the `driving factors/ variables` for defaulting loan repayment**"
   ]
  },
  {
   "cell_type": "markdown",
   "id": "01e970d3",
   "metadata": {
    "id": "01e970d3"
   },
   "source": [
    "---\n",
    "#### Steps\n",
    "\n",
    "1. Understand Data\n",
    "2. Data cleaning - remove outliers, null values, fix data types\n",
    "3. Data Analysis - Univariate, Bivariate, Multivariate\n",
    "4. Visualise results\n",
    "5. Conclusion"
   ]
  },
  {
   "cell_type": "markdown",
   "id": "974430cb",
   "metadata": {
    "id": "974430cb"
   },
   "source": [
    "---"
   ]
  },
  {
   "cell_type": "markdown",
   "id": "51ef3fed",
   "metadata": {
    "id": "51ef3fed"
   },
   "source": [
    "##### Import Libraries"
   ]
  },
  {
   "cell_type": "code",
   "execution_count": 1,
   "id": "b7715cee",
   "metadata": {
    "id": "b7715cee"
   },
   "outputs": [],
   "source": [
    "#Load the necessary Libraries\n",
    "import pandas as pd\n",
    "import numpy as np\n",
    "# Charts and plots\n",
    "import seaborn as sns\n",
    "import matplotlib.pyplot as plt\n",
    "import plotly.express as px\n",
    "# Warnings library\n",
    "import warnings #warning\n",
    "warnings.filterwarnings('ignore')\n",
    "\n",
    "\n",
    "#Removing display limit of dataframe (optional cell to run)\n",
    "pd.set_option('display.max_rows', None)\n",
    "pd.set_option('display.max_columns', None)\n",
    "pd.set_option('display.width', None)"
   ]
  },
  {
   "cell_type": "markdown",
   "id": "e65e495a",
   "metadata": {
    "id": "e65e495a"
   },
   "source": [
    "### Load Data"
   ]
  },
  {
   "cell_type": "code",
   "execution_count": 2,
   "id": "c9581c4e",
   "metadata": {
    "id": "c9581c4e",
    "outputId": "624e1ece-7f32-41d3-96e1-b31305d4af50",
    "scrolled": true
   },
   "outputs": [],
   "source": [
    "# Load Data\n",
    "loan = pd.read_csv('loan.csv')\n",
    "data_dict = pd.read_excel('Data_Dictionary.xlsx')\n",
    "\n",
    "# loan.head()"
   ]
  },
  {
   "cell_type": "code",
   "execution_count": 3,
   "id": "c50673a5",
   "metadata": {
    "id": "c50673a5",
    "outputId": "623ff47f-9824-4438-f0e4-f7991c5b9ae2"
   },
   "outputs": [
    {
     "data": {
      "text/plain": [
       "(39717, 111)"
      ]
     },
     "execution_count": 3,
     "metadata": {},
     "output_type": "execute_result"
    }
   ],
   "source": [
    "# Shape of dataset\n",
    "loan.shape"
   ]
  },
  {
   "cell_type": "code",
   "execution_count": 4,
   "id": "c22d45c9",
   "metadata": {
    "id": "c22d45c9",
    "outputId": "99fadd00-08cd-4160-95c9-6ca414553ce7",
    "scrolled": true
   },
   "outputs": [
    {
     "data": {
      "text/plain": [
       "id                                  int64\n",
       "member_id                           int64\n",
       "loan_amnt                           int64\n",
       "funded_amnt                         int64\n",
       "funded_amnt_inv                   float64\n",
       "term                               object\n",
       "int_rate                           object\n",
       "installment                       float64\n",
       "grade                              object\n",
       "sub_grade                          object\n",
       "emp_title                          object\n",
       "emp_length                         object\n",
       "home_ownership                     object\n",
       "annual_inc                        float64\n",
       "verification_status                object\n",
       "issue_d                            object\n",
       "loan_status                        object\n",
       "pymnt_plan                         object\n",
       "url                                object\n",
       "desc                               object\n",
       "purpose                            object\n",
       "title                              object\n",
       "zip_code                           object\n",
       "addr_state                         object\n",
       "dti                               float64\n",
       "delinq_2yrs                         int64\n",
       "earliest_cr_line                   object\n",
       "inq_last_6mths                      int64\n",
       "mths_since_last_delinq            float64\n",
       "mths_since_last_record            float64\n",
       "open_acc                            int64\n",
       "pub_rec                             int64\n",
       "revol_bal                           int64\n",
       "revol_util                         object\n",
       "total_acc                           int64\n",
       "initial_list_status                object\n",
       "out_prncp                         float64\n",
       "out_prncp_inv                     float64\n",
       "total_pymnt                       float64\n",
       "total_pymnt_inv                   float64\n",
       "total_rec_prncp                   float64\n",
       "total_rec_int                     float64\n",
       "total_rec_late_fee                float64\n",
       "recoveries                        float64\n",
       "collection_recovery_fee           float64\n",
       "last_pymnt_d                       object\n",
       "last_pymnt_amnt                   float64\n",
       "next_pymnt_d                       object\n",
       "last_credit_pull_d                 object\n",
       "collections_12_mths_ex_med        float64\n",
       "mths_since_last_major_derog       float64\n",
       "policy_code                         int64\n",
       "application_type                   object\n",
       "annual_inc_joint                  float64\n",
       "dti_joint                         float64\n",
       "verification_status_joint         float64\n",
       "acc_now_delinq                      int64\n",
       "tot_coll_amt                      float64\n",
       "tot_cur_bal                       float64\n",
       "open_acc_6m                       float64\n",
       "open_il_6m                        float64\n",
       "open_il_12m                       float64\n",
       "open_il_24m                       float64\n",
       "mths_since_rcnt_il                float64\n",
       "total_bal_il                      float64\n",
       "il_util                           float64\n",
       "open_rv_12m                       float64\n",
       "open_rv_24m                       float64\n",
       "max_bal_bc                        float64\n",
       "all_util                          float64\n",
       "total_rev_hi_lim                  float64\n",
       "inq_fi                            float64\n",
       "total_cu_tl                       float64\n",
       "inq_last_12m                      float64\n",
       "acc_open_past_24mths              float64\n",
       "avg_cur_bal                       float64\n",
       "bc_open_to_buy                    float64\n",
       "bc_util                           float64\n",
       "chargeoff_within_12_mths          float64\n",
       "delinq_amnt                         int64\n",
       "mo_sin_old_il_acct                float64\n",
       "mo_sin_old_rev_tl_op              float64\n",
       "mo_sin_rcnt_rev_tl_op             float64\n",
       "mo_sin_rcnt_tl                    float64\n",
       "mort_acc                          float64\n",
       "mths_since_recent_bc              float64\n",
       "mths_since_recent_bc_dlq          float64\n",
       "mths_since_recent_inq             float64\n",
       "mths_since_recent_revol_delinq    float64\n",
       "num_accts_ever_120_pd             float64\n",
       "num_actv_bc_tl                    float64\n",
       "num_actv_rev_tl                   float64\n",
       "num_bc_sats                       float64\n",
       "num_bc_tl                         float64\n",
       "num_il_tl                         float64\n",
       "num_op_rev_tl                     float64\n",
       "num_rev_accts                     float64\n",
       "num_rev_tl_bal_gt_0               float64\n",
       "num_sats                          float64\n",
       "num_tl_120dpd_2m                  float64\n",
       "num_tl_30dpd                      float64\n",
       "num_tl_90g_dpd_24m                float64\n",
       "num_tl_op_past_12m                float64\n",
       "pct_tl_nvr_dlq                    float64\n",
       "percent_bc_gt_75                  float64\n",
       "pub_rec_bankruptcies              float64\n",
       "tax_liens                         float64\n",
       "tot_hi_cred_lim                   float64\n",
       "total_bal_ex_mort                 float64\n",
       "total_bc_limit                    float64\n",
       "total_il_high_credit_limit        float64\n",
       "dtype: object"
      ]
     },
     "execution_count": 4,
     "metadata": {},
     "output_type": "execute_result"
    }
   ],
   "source": [
    "# Data types of all columns\n",
    "loan.dtypes"
   ]
  },
  {
   "cell_type": "markdown",
   "id": "c404b0d2",
   "metadata": {
    "id": "c404b0d2"
   },
   "source": [
    "### Cleanup Data\n",
    "\n",
    "Clean null values, unused columns"
   ]
  },
  {
   "cell_type": "code",
   "execution_count": 5,
   "id": "f4931eb3",
   "metadata": {
    "id": "f4931eb3",
    "outputId": "27f15688-afb0-4ba7-e267-d72647b45ceb",
    "scrolled": true
   },
   "outputs": [
    {
     "data": {
      "text/plain": [
       "verification_status_joint         39717\n",
       "annual_inc_joint                  39717\n",
       "mo_sin_old_rev_tl_op              39717\n",
       "mo_sin_old_il_acct                39717\n",
       "bc_util                           39717\n",
       "bc_open_to_buy                    39717\n",
       "avg_cur_bal                       39717\n",
       "acc_open_past_24mths              39717\n",
       "inq_last_12m                      39717\n",
       "total_cu_tl                       39717\n",
       "inq_fi                            39717\n",
       "total_rev_hi_lim                  39717\n",
       "all_util                          39717\n",
       "max_bal_bc                        39717\n",
       "open_rv_24m                       39717\n",
       "open_rv_12m                       39717\n",
       "il_util                           39717\n",
       "total_bal_il                      39717\n",
       "mths_since_rcnt_il                39717\n",
       "open_il_24m                       39717\n",
       "open_il_12m                       39717\n",
       "open_il_6m                        39717\n",
       "open_acc_6m                       39717\n",
       "tot_cur_bal                       39717\n",
       "tot_coll_amt                      39717\n",
       "mo_sin_rcnt_rev_tl_op             39717\n",
       "mo_sin_rcnt_tl                    39717\n",
       "mort_acc                          39717\n",
       "num_rev_tl_bal_gt_0               39717\n",
       "total_bc_limit                    39717\n",
       "total_bal_ex_mort                 39717\n",
       "tot_hi_cred_lim                   39717\n",
       "percent_bc_gt_75                  39717\n",
       "pct_tl_nvr_dlq                    39717\n",
       "num_tl_op_past_12m                39717\n",
       "num_tl_90g_dpd_24m                39717\n",
       "num_tl_30dpd                      39717\n",
       "num_tl_120dpd_2m                  39717\n",
       "num_sats                          39717\n",
       "num_rev_accts                     39717\n",
       "mths_since_recent_bc              39717\n",
       "num_op_rev_tl                     39717\n",
       "num_il_tl                         39717\n",
       "num_bc_tl                         39717\n",
       "num_bc_sats                       39717\n",
       "num_actv_rev_tl                   39717\n",
       "num_actv_bc_tl                    39717\n",
       "num_accts_ever_120_pd             39717\n",
       "mths_since_recent_revol_delinq    39717\n",
       "mths_since_recent_inq             39717\n",
       "mths_since_recent_bc_dlq          39717\n",
       "dti_joint                         39717\n",
       "total_il_high_credit_limit        39717\n",
       "mths_since_last_major_derog       39717\n",
       "next_pymnt_d                      38577\n",
       "mths_since_last_record            36931\n",
       "mths_since_last_delinq            25682\n",
       "desc                              12942\n",
       "emp_title                          2459\n",
       "emp_length                         1075\n",
       "pub_rec_bankruptcies                697\n",
       "last_pymnt_d                         71\n",
       "collections_12_mths_ex_med           56\n",
       "chargeoff_within_12_mths             56\n",
       "revol_util                           50\n",
       "tax_liens                            39\n",
       "title                                11\n",
       "last_credit_pull_d                    2\n",
       "pymnt_plan                            0\n",
       "url                                   0\n",
       "loan_status                           0\n",
       "purpose                               0\n",
       "issue_d                               0\n",
       "verification_status                   0\n",
       "application_type                      0\n",
       "annual_inc                            0\n",
       "home_ownership                        0\n",
       "zip_code                              0\n",
       "grade                                 0\n",
       "installment                           0\n",
       "int_rate                              0\n",
       "term                                  0\n",
       "funded_amnt_inv                       0\n",
       "funded_amnt                           0\n",
       "loan_amnt                             0\n",
       "sub_grade                             0\n",
       "inq_last_6mths                        0\n",
       "addr_state                            0\n",
       "dti                                   0\n",
       "member_id                             0\n",
       "acc_now_delinq                        0\n",
       "last_pymnt_amnt                       0\n",
       "collection_recovery_fee               0\n",
       "recoveries                            0\n",
       "total_rec_late_fee                    0\n",
       "total_rec_int                         0\n",
       "total_rec_prncp                       0\n",
       "total_pymnt_inv                       0\n",
       "total_pymnt                           0\n",
       "out_prncp_inv                         0\n",
       "out_prncp                             0\n",
       "initial_list_status                   0\n",
       "total_acc                             0\n",
       "revol_bal                             0\n",
       "pub_rec                               0\n",
       "open_acc                              0\n",
       "delinq_amnt                           0\n",
       "policy_code                           0\n",
       "earliest_cr_line                      0\n",
       "delinq_2yrs                           0\n",
       "id                                    0\n",
       "dtype: int64"
      ]
     },
     "execution_count": 5,
     "metadata": {},
     "output_type": "execute_result"
    }
   ],
   "source": [
    "# Check null values\n",
    "loan.isnull().sum().sort_values(ascending=False)"
   ]
  },
  {
   "cell_type": "code",
   "execution_count": 6,
   "id": "d2bac565",
   "metadata": {
    "id": "d2bac565",
    "outputId": "f1fb2368-1c38-46f9-af3a-8586809b45d6",
    "scrolled": true
   },
   "outputs": [
    {
     "name": "stdout",
     "output_type": "stream",
     "text": [
      "(39717, 57)\n",
      "next_pymnt_d                  38577\n",
      "mths_since_last_record        36931\n",
      "mths_since_last_delinq        25682\n",
      "desc                          12942\n",
      "emp_title                      2459\n",
      "emp_length                     1075\n",
      "pub_rec_bankruptcies            697\n",
      "last_pymnt_d                     71\n",
      "chargeoff_within_12_mths         56\n",
      "collections_12_mths_ex_med       56\n",
      "revol_util                       50\n",
      "tax_liens                        39\n",
      "title                            11\n",
      "last_credit_pull_d                2\n",
      "home_ownership                    0\n",
      "int_rate                          0\n",
      "out_prncp_inv                     0\n",
      "total_pymnt                       0\n",
      "total_pymnt_inv                   0\n",
      "total_rec_prncp                   0\n",
      "total_rec_int                     0\n",
      "total_rec_late_fee                0\n",
      "recoveries                        0\n",
      "collection_recovery_fee           0\n",
      "term                              0\n",
      "last_pymnt_amnt                   0\n",
      "initial_list_status               0\n",
      "funded_amnt_inv                   0\n",
      "policy_code                       0\n",
      "application_type                  0\n",
      "acc_now_delinq                    0\n",
      "funded_amnt                       0\n",
      "delinq_amnt                       0\n",
      "loan_amnt                         0\n",
      "out_prncp                         0\n",
      "total_acc                         0\n",
      "annual_inc                        0\n",
      "addr_state                        0\n",
      "verification_status               0\n",
      "issue_d                           0\n",
      "loan_status                       0\n",
      "pymnt_plan                        0\n",
      "url                               0\n",
      "sub_grade                         0\n",
      "purpose                           0\n",
      "zip_code                          0\n",
      "dti                               0\n",
      "installment                       0\n",
      "delinq_2yrs                       0\n",
      "earliest_cr_line                  0\n",
      "inq_last_6mths                    0\n",
      "member_id                         0\n",
      "grade                             0\n",
      "open_acc                          0\n",
      "pub_rec                           0\n",
      "revol_bal                         0\n",
      "id                                0\n",
      "dtype: int64\n"
     ]
    }
   ],
   "source": [
    "# Remove columns with all null values\n",
    "\n",
    "loan = loan.loc[:, ~loan.isnull().all()]\n",
    "print(loan.shape)\n",
    "\n",
    "print(loan.isnull().sum().sort_values(ascending=False))"
   ]
  },
  {
   "cell_type": "code",
   "execution_count": 7,
   "id": "f5f8a065",
   "metadata": {
    "id": "f5f8a065",
    "outputId": "26549957-c5dc-449c-984b-65e58dfb8f6a",
    "scrolled": true
   },
   "outputs": [
    {
     "name": "stdout",
     "output_type": "stream",
     "text": [
      "(39717, 54)\n",
      "desc                          12942\n",
      "emp_title                      2459\n",
      "emp_length                     1075\n",
      "pub_rec_bankruptcies            697\n",
      "last_pymnt_d                     71\n",
      "collections_12_mths_ex_med       56\n",
      "chargeoff_within_12_mths         56\n",
      "revol_util                       50\n",
      "tax_liens                        39\n",
      "title                            11\n",
      "last_credit_pull_d                2\n",
      "total_rec_prncp                   0\n",
      "out_prncp                         0\n",
      "initial_list_status               0\n",
      "out_prncp_inv                     0\n",
      "total_acc                         0\n",
      "total_pymnt                       0\n",
      "total_pymnt_inv                   0\n",
      "collection_recovery_fee           0\n",
      "total_rec_int                     0\n",
      "total_rec_late_fee                0\n",
      "recoveries                        0\n",
      "pub_rec                           0\n",
      "last_pymnt_amnt                   0\n",
      "policy_code                       0\n",
      "application_type                  0\n",
      "acc_now_delinq                    0\n",
      "delinq_amnt                       0\n",
      "revol_bal                         0\n",
      "id                                0\n",
      "open_acc                          0\n",
      "member_id                         0\n",
      "loan_amnt                         0\n",
      "funded_amnt                       0\n",
      "funded_amnt_inv                   0\n",
      "term                              0\n",
      "int_rate                          0\n",
      "installment                       0\n",
      "grade                             0\n",
      "sub_grade                         0\n",
      "home_ownership                    0\n",
      "annual_inc                        0\n",
      "verification_status               0\n",
      "issue_d                           0\n",
      "loan_status                       0\n",
      "pymnt_plan                        0\n",
      "url                               0\n",
      "purpose                           0\n",
      "zip_code                          0\n",
      "addr_state                        0\n",
      "dti                               0\n",
      "delinq_2yrs                       0\n",
      "earliest_cr_line                  0\n",
      "inq_last_6mths                    0\n",
      "dtype: int64\n"
     ]
    }
   ],
   "source": [
    "# Remove columns with more than 60% null values\n",
    "\n",
    "loan = loan.loc[:, ~((loan.isnull().sum()/loan.shape[0])*100 > 60.0)]\n",
    "print(loan.shape)\n",
    "\n",
    "print(loan.isnull().sum().sort_values(ascending=False))"
   ]
  },
  {
   "cell_type": "code",
   "execution_count": 8,
   "id": "adde50b9",
   "metadata": {
    "id": "adde50b9",
    "outputId": "a02d12d0-786e-4083-bf3f-908fae8751df"
   },
   "outputs": [
    {
     "data": {
      "text/plain": [
       "(39717, 54)"
      ]
     },
     "execution_count": 8,
     "metadata": {},
     "output_type": "execute_result"
    }
   ],
   "source": [
    "# Shape after cleaning null values\n",
    "loan.shape"
   ]
  },
  {
   "cell_type": "code",
   "execution_count": 9,
   "id": "38c4ae5c-85e8-4512-8373-5b98b4bf586b",
   "metadata": {
    "id": "38c4ae5c-85e8-4512-8373-5b98b4bf586b",
    "outputId": "934e9c2a-da7a-4071-f59e-0549a8c7da9a"
   },
   "outputs": [
    {
     "data": {
      "text/plain": [
       "(39717, 45)"
      ]
     },
     "execution_count": 9,
     "metadata": {},
     "output_type": "execute_result"
    }
   ],
   "source": [
    "## Remove non unique columns that only have 1 unique value\n",
    "loan = loan.loc[:, ~(loan.nunique() == 1)]\n",
    "\n",
    "loan.shape"
   ]
  },
  {
   "cell_type": "code",
   "execution_count": 10,
   "id": "d82848ca-d1e3-412c-b671-7543a2bbfc01",
   "metadata": {
    "id": "d82848ca-d1e3-412c-b671-7543a2bbfc01",
    "outputId": "c75a1a15-ed99-4bbb-bcaa-1bbf2c226e53",
    "scrolled": true
   },
   "outputs": [
    {
     "data": {
      "text/plain": [
       "term                           2\n",
       "pub_rec_bankruptcies           3\n",
       "loan_status                    3\n",
       "verification_status            3\n",
       "pub_rec                        5\n",
       "home_ownership                 5\n",
       "grade                          7\n",
       "inq_last_6mths                 9\n",
       "delinq_2yrs                   11\n",
       "emp_length                    11\n",
       "purpose                       14\n",
       "sub_grade                     35\n",
       "open_acc                      40\n",
       "addr_state                    50\n",
       "issue_d                       55\n",
       "total_acc                     82\n",
       "last_pymnt_d                 101\n",
       "last_credit_pull_d           106\n",
       "int_rate                     371\n",
       "earliest_cr_line             526\n",
       "zip_code                     823\n",
       "loan_amnt                    885\n",
       "funded_amnt                 1041\n",
       "revol_util                  1089\n",
       "out_prncp                   1137\n",
       "out_prncp_inv               1138\n",
       "total_rec_late_fee          1356\n",
       "collection_recovery_fee     2616\n",
       "dti                         2868\n",
       "recoveries                  4040\n",
       "annual_inc                  5318\n",
       "total_rec_prncp             7976\n",
       "funded_amnt_inv             8205\n",
       "installment                15383\n",
       "title                      19615\n",
       "revol_bal                  21711\n",
       "desc                       26526\n",
       "emp_title                  28820\n",
       "last_pymnt_amnt            34930\n",
       "total_rec_int              35148\n",
       "total_pymnt_inv            37518\n",
       "total_pymnt                37850\n",
       "member_id                  39717\n",
       "url                        39717\n",
       "id                         39717\n",
       "dtype: int64"
      ]
     },
     "execution_count": 10,
     "metadata": {},
     "output_type": "execute_result"
    }
   ],
   "source": [
    "loan.nunique().sort_values(ascending=True)"
   ]
  },
  {
   "cell_type": "code",
   "execution_count": 11,
   "id": "d6de5759-3582-41e7-b81f-11e616e2e0fe",
   "metadata": {
    "id": "d6de5759-3582-41e7-b81f-11e616e2e0fe",
    "outputId": "0a7e0bc0-579b-44ad-e71c-f4d04ae47d2a"
   },
   "outputs": [
    {
     "data": {
      "text/plain": [
       "(39717, 34)"
      ]
     },
     "execution_count": 11,
     "metadata": {},
     "output_type": "execute_result"
    }
   ],
   "source": [
    "## Remove columns\n",
    "# id: redundant column to member_id\n",
    "# url, desc, earliest_cr_line, revol_bal, title, emp_title, collection_recovery_fee: not required for credit loss analysis\n",
    "# zip_code: masked therefore cannot be of help in analysis\n",
    "\n",
    "loan = loan.drop(['id', 'url', 'desc', 'earliest_cr_line', 'revol_bal', 'title', 'emp_title', 'zip_code', 'collection_recovery_fee', 'last_pymnt_d', 'last_credit_pull_d'], axis=1)\n",
    "loan.shape"
   ]
  },
  {
   "cell_type": "code",
   "execution_count": 12,
   "id": "b5ade564-b8c3-46fe-849a-3954fae3daa6",
   "metadata": {
    "id": "b5ade564-b8c3-46fe-849a-3954fae3daa6",
    "outputId": "d27802c8-1f27-4a4b-d852-382a049c340d",
    "scrolled": true
   },
   "outputs": [
    {
     "data": {
      "text/plain": [
       "member_id                        int64\n",
       "loan_amnt                        int64\n",
       "funded_amnt                      int64\n",
       "funded_amnt_inv                float64\n",
       "term                             int64\n",
       "int_rate                       float64\n",
       "installment                    float64\n",
       "grade                         category\n",
       "sub_grade                     category\n",
       "emp_length                     float64\n",
       "home_ownership                category\n",
       "annual_inc                     float64\n",
       "verification_status           category\n",
       "issue_d                 datetime64[ns]\n",
       "loan_status                   category\n",
       "purpose                       category\n",
       "addr_state                    category\n",
       "dti                            float64\n",
       "delinq_2yrs                      int64\n",
       "inq_last_6mths                   int64\n",
       "open_acc                         int64\n",
       "pub_rec                          int64\n",
       "revol_util                     float64\n",
       "total_acc                        int64\n",
       "out_prncp                      float64\n",
       "out_prncp_inv                  float64\n",
       "total_pymnt                    float64\n",
       "total_pymnt_inv                float64\n",
       "total_rec_prncp                float64\n",
       "total_rec_int                  float64\n",
       "total_rec_late_fee             float64\n",
       "recoveries                     float64\n",
       "last_pymnt_amnt                float64\n",
       "pub_rec_bankruptcies           float64\n",
       "issue_d_month                    int32\n",
       "issue_d_year                     int32\n",
       "dtype: object"
      ]
     },
     "execution_count": 12,
     "metadata": {},
     "output_type": "execute_result"
    }
   ],
   "source": [
    "## Removing extra strings and convert to appropriate datatypes\n",
    "\n",
    "loan['term'] = loan['term'].apply(lambda x: int(x.replace(' months', '')))\n",
    "loan['int_rate'] = loan['int_rate'].apply(lambda x: float(x.replace('%', '')))\n",
    "loan['revol_util'] = loan['revol_util'].apply(lambda x: float(str(x).replace('%', '')))\n",
    "\n",
    "# Assuming '< 1 year' as 0.7 and converting to float values\n",
    "loan['emp_length'] = loan['emp_length'].str.replace('< 1', '0.7').replace('[$a-zA-Z+]', '', regex=True).astype('float')\n",
    "\n",
    "# Change column type to category\n",
    "for col in ['grade', 'sub_grade', 'home_ownership', 'verification_status', 'loan_status', 'purpose', 'addr_state']:\n",
    "    loan[col] = loan[col].astype('category')\n",
    "\n",
    "# Change column type to datetime\n",
    "loan['issue_d'] = pd.to_datetime(loan['issue_d'],format='%b-%y')\n",
    "loan['issue_d_month'] = pd.to_datetime(loan['issue_d'],format='%b-%y').dt.month\n",
    "loan['issue_d_year'] = pd.to_datetime(loan['issue_d'],format='%b-%y').dt.year\n",
    "\n",
    "loan.dtypes"
   ]
  },
  {
   "cell_type": "code",
   "execution_count": 13,
   "id": "9d041a31-2c3c-471d-bab2-a8407ebbf007",
   "metadata": {
    "id": "9d041a31-2c3c-471d-bab2-a8407ebbf007"
   },
   "outputs": [],
   "source": [
    "# Round all float types to 2 decimals\n",
    "\n",
    "for cols in loan.columns:\n",
    "    if(loan[cols].dtype == 'float64'):\n",
    "        loan[cols] = loan[cols].round(2)"
   ]
  },
  {
   "cell_type": "code",
   "execution_count": 14,
   "id": "a54e6f0c-8908-4d27-ba47-554362ba51e1",
   "metadata": {
    "id": "a54e6f0c-8908-4d27-ba47-554362ba51e1",
    "outputId": "78f8b843-0b74-459d-9e88-77f451bc80f2",
    "scrolled": true
   },
   "outputs": [
    {
     "data": {
      "text/html": [
       "<div>\n",
       "<style scoped>\n",
       "    .dataframe tbody tr th:only-of-type {\n",
       "        vertical-align: middle;\n",
       "    }\n",
       "\n",
       "    .dataframe tbody tr th {\n",
       "        vertical-align: top;\n",
       "    }\n",
       "\n",
       "    .dataframe thead th {\n",
       "        text-align: right;\n",
       "    }\n",
       "</style>\n",
       "<table border=\"1\" class=\"dataframe\">\n",
       "  <thead>\n",
       "    <tr style=\"text-align: right;\">\n",
       "      <th></th>\n",
       "      <th>member_id</th>\n",
       "      <th>loan_amnt</th>\n",
       "      <th>funded_amnt</th>\n",
       "      <th>funded_amnt_inv</th>\n",
       "      <th>term</th>\n",
       "      <th>int_rate</th>\n",
       "      <th>installment</th>\n",
       "      <th>grade</th>\n",
       "      <th>sub_grade</th>\n",
       "      <th>emp_length</th>\n",
       "      <th>home_ownership</th>\n",
       "      <th>annual_inc</th>\n",
       "      <th>verification_status</th>\n",
       "      <th>issue_d</th>\n",
       "      <th>loan_status</th>\n",
       "      <th>purpose</th>\n",
       "      <th>addr_state</th>\n",
       "      <th>dti</th>\n",
       "      <th>delinq_2yrs</th>\n",
       "      <th>inq_last_6mths</th>\n",
       "      <th>open_acc</th>\n",
       "      <th>pub_rec</th>\n",
       "      <th>revol_util</th>\n",
       "      <th>total_acc</th>\n",
       "      <th>out_prncp</th>\n",
       "      <th>out_prncp_inv</th>\n",
       "      <th>total_pymnt</th>\n",
       "      <th>total_pymnt_inv</th>\n",
       "      <th>total_rec_prncp</th>\n",
       "      <th>total_rec_int</th>\n",
       "      <th>total_rec_late_fee</th>\n",
       "      <th>recoveries</th>\n",
       "      <th>last_pymnt_amnt</th>\n",
       "      <th>pub_rec_bankruptcies</th>\n",
       "      <th>issue_d_month</th>\n",
       "      <th>issue_d_year</th>\n",
       "    </tr>\n",
       "  </thead>\n",
       "  <tbody>\n",
       "    <tr>\n",
       "      <th>0</th>\n",
       "      <td>1296599</td>\n",
       "      <td>5000</td>\n",
       "      <td>5000</td>\n",
       "      <td>4975.0</td>\n",
       "      <td>36</td>\n",
       "      <td>10.65</td>\n",
       "      <td>162.87</td>\n",
       "      <td>B</td>\n",
       "      <td>B2</td>\n",
       "      <td>10.0</td>\n",
       "      <td>RENT</td>\n",
       "      <td>24000.0</td>\n",
       "      <td>Verified</td>\n",
       "      <td>2011-12-01</td>\n",
       "      <td>Fully Paid</td>\n",
       "      <td>credit_card</td>\n",
       "      <td>AZ</td>\n",
       "      <td>27.65</td>\n",
       "      <td>0</td>\n",
       "      <td>1</td>\n",
       "      <td>3</td>\n",
       "      <td>0</td>\n",
       "      <td>83.7</td>\n",
       "      <td>9</td>\n",
       "      <td>0.00</td>\n",
       "      <td>0.00</td>\n",
       "      <td>5863.16</td>\n",
       "      <td>5833.84</td>\n",
       "      <td>5000.00</td>\n",
       "      <td>863.16</td>\n",
       "      <td>0.00</td>\n",
       "      <td>0.00</td>\n",
       "      <td>171.62</td>\n",
       "      <td>0.0</td>\n",
       "      <td>12</td>\n",
       "      <td>2011</td>\n",
       "    </tr>\n",
       "    <tr>\n",
       "      <th>1</th>\n",
       "      <td>1314167</td>\n",
       "      <td>2500</td>\n",
       "      <td>2500</td>\n",
       "      <td>2500.0</td>\n",
       "      <td>60</td>\n",
       "      <td>15.27</td>\n",
       "      <td>59.83</td>\n",
       "      <td>C</td>\n",
       "      <td>C4</td>\n",
       "      <td>0.7</td>\n",
       "      <td>RENT</td>\n",
       "      <td>30000.0</td>\n",
       "      <td>Source Verified</td>\n",
       "      <td>2011-12-01</td>\n",
       "      <td>Charged Off</td>\n",
       "      <td>car</td>\n",
       "      <td>GA</td>\n",
       "      <td>1.00</td>\n",
       "      <td>0</td>\n",
       "      <td>5</td>\n",
       "      <td>3</td>\n",
       "      <td>0</td>\n",
       "      <td>9.4</td>\n",
       "      <td>4</td>\n",
       "      <td>0.00</td>\n",
       "      <td>0.00</td>\n",
       "      <td>1008.71</td>\n",
       "      <td>1008.71</td>\n",
       "      <td>456.46</td>\n",
       "      <td>435.17</td>\n",
       "      <td>0.00</td>\n",
       "      <td>117.08</td>\n",
       "      <td>119.66</td>\n",
       "      <td>0.0</td>\n",
       "      <td>12</td>\n",
       "      <td>2011</td>\n",
       "    </tr>\n",
       "    <tr>\n",
       "      <th>2</th>\n",
       "      <td>1313524</td>\n",
       "      <td>2400</td>\n",
       "      <td>2400</td>\n",
       "      <td>2400.0</td>\n",
       "      <td>36</td>\n",
       "      <td>15.96</td>\n",
       "      <td>84.33</td>\n",
       "      <td>C</td>\n",
       "      <td>C5</td>\n",
       "      <td>10.0</td>\n",
       "      <td>RENT</td>\n",
       "      <td>12252.0</td>\n",
       "      <td>Not Verified</td>\n",
       "      <td>2011-12-01</td>\n",
       "      <td>Fully Paid</td>\n",
       "      <td>small_business</td>\n",
       "      <td>IL</td>\n",
       "      <td>8.72</td>\n",
       "      <td>0</td>\n",
       "      <td>2</td>\n",
       "      <td>2</td>\n",
       "      <td>0</td>\n",
       "      <td>98.5</td>\n",
       "      <td>10</td>\n",
       "      <td>0.00</td>\n",
       "      <td>0.00</td>\n",
       "      <td>3005.67</td>\n",
       "      <td>3005.67</td>\n",
       "      <td>2400.00</td>\n",
       "      <td>605.67</td>\n",
       "      <td>0.00</td>\n",
       "      <td>0.00</td>\n",
       "      <td>649.91</td>\n",
       "      <td>0.0</td>\n",
       "      <td>12</td>\n",
       "      <td>2011</td>\n",
       "    </tr>\n",
       "    <tr>\n",
       "      <th>3</th>\n",
       "      <td>1277178</td>\n",
       "      <td>10000</td>\n",
       "      <td>10000</td>\n",
       "      <td>10000.0</td>\n",
       "      <td>36</td>\n",
       "      <td>13.49</td>\n",
       "      <td>339.31</td>\n",
       "      <td>C</td>\n",
       "      <td>C1</td>\n",
       "      <td>10.0</td>\n",
       "      <td>RENT</td>\n",
       "      <td>49200.0</td>\n",
       "      <td>Source Verified</td>\n",
       "      <td>2011-12-01</td>\n",
       "      <td>Fully Paid</td>\n",
       "      <td>other</td>\n",
       "      <td>CA</td>\n",
       "      <td>20.00</td>\n",
       "      <td>0</td>\n",
       "      <td>1</td>\n",
       "      <td>10</td>\n",
       "      <td>0</td>\n",
       "      <td>21.0</td>\n",
       "      <td>37</td>\n",
       "      <td>0.00</td>\n",
       "      <td>0.00</td>\n",
       "      <td>12231.89</td>\n",
       "      <td>12231.89</td>\n",
       "      <td>10000.00</td>\n",
       "      <td>2214.92</td>\n",
       "      <td>16.97</td>\n",
       "      <td>0.00</td>\n",
       "      <td>357.48</td>\n",
       "      <td>0.0</td>\n",
       "      <td>12</td>\n",
       "      <td>2011</td>\n",
       "    </tr>\n",
       "    <tr>\n",
       "      <th>4</th>\n",
       "      <td>1311748</td>\n",
       "      <td>3000</td>\n",
       "      <td>3000</td>\n",
       "      <td>3000.0</td>\n",
       "      <td>60</td>\n",
       "      <td>12.69</td>\n",
       "      <td>67.79</td>\n",
       "      <td>B</td>\n",
       "      <td>B5</td>\n",
       "      <td>1.0</td>\n",
       "      <td>RENT</td>\n",
       "      <td>80000.0</td>\n",
       "      <td>Source Verified</td>\n",
       "      <td>2011-12-01</td>\n",
       "      <td>Current</td>\n",
       "      <td>other</td>\n",
       "      <td>OR</td>\n",
       "      <td>17.94</td>\n",
       "      <td>0</td>\n",
       "      <td>0</td>\n",
       "      <td>15</td>\n",
       "      <td>0</td>\n",
       "      <td>53.9</td>\n",
       "      <td>38</td>\n",
       "      <td>524.06</td>\n",
       "      <td>524.06</td>\n",
       "      <td>3513.33</td>\n",
       "      <td>3513.33</td>\n",
       "      <td>2475.94</td>\n",
       "      <td>1037.39</td>\n",
       "      <td>0.00</td>\n",
       "      <td>0.00</td>\n",
       "      <td>67.79</td>\n",
       "      <td>0.0</td>\n",
       "      <td>12</td>\n",
       "      <td>2011</td>\n",
       "    </tr>\n",
       "    <tr>\n",
       "      <th>5</th>\n",
       "      <td>1311441</td>\n",
       "      <td>5000</td>\n",
       "      <td>5000</td>\n",
       "      <td>5000.0</td>\n",
       "      <td>36</td>\n",
       "      <td>7.90</td>\n",
       "      <td>156.46</td>\n",
       "      <td>A</td>\n",
       "      <td>A4</td>\n",
       "      <td>3.0</td>\n",
       "      <td>RENT</td>\n",
       "      <td>36000.0</td>\n",
       "      <td>Source Verified</td>\n",
       "      <td>2011-12-01</td>\n",
       "      <td>Fully Paid</td>\n",
       "      <td>wedding</td>\n",
       "      <td>AZ</td>\n",
       "      <td>11.20</td>\n",
       "      <td>0</td>\n",
       "      <td>3</td>\n",
       "      <td>9</td>\n",
       "      <td>0</td>\n",
       "      <td>28.3</td>\n",
       "      <td>12</td>\n",
       "      <td>0.00</td>\n",
       "      <td>0.00</td>\n",
       "      <td>5632.21</td>\n",
       "      <td>5632.21</td>\n",
       "      <td>5000.00</td>\n",
       "      <td>632.21</td>\n",
       "      <td>0.00</td>\n",
       "      <td>0.00</td>\n",
       "      <td>161.03</td>\n",
       "      <td>0.0</td>\n",
       "      <td>12</td>\n",
       "      <td>2011</td>\n",
       "    </tr>\n",
       "    <tr>\n",
       "      <th>6</th>\n",
       "      <td>1304742</td>\n",
       "      <td>7000</td>\n",
       "      <td>7000</td>\n",
       "      <td>7000.0</td>\n",
       "      <td>60</td>\n",
       "      <td>15.96</td>\n",
       "      <td>170.08</td>\n",
       "      <td>C</td>\n",
       "      <td>C5</td>\n",
       "      <td>8.0</td>\n",
       "      <td>RENT</td>\n",
       "      <td>47004.0</td>\n",
       "      <td>Not Verified</td>\n",
       "      <td>2011-12-01</td>\n",
       "      <td>Fully Paid</td>\n",
       "      <td>debt_consolidation</td>\n",
       "      <td>NC</td>\n",
       "      <td>23.51</td>\n",
       "      <td>0</td>\n",
       "      <td>1</td>\n",
       "      <td>7</td>\n",
       "      <td>0</td>\n",
       "      <td>85.6</td>\n",
       "      <td>11</td>\n",
       "      <td>0.00</td>\n",
       "      <td>0.00</td>\n",
       "      <td>10110.84</td>\n",
       "      <td>10110.84</td>\n",
       "      <td>6985.61</td>\n",
       "      <td>3125.23</td>\n",
       "      <td>0.00</td>\n",
       "      <td>0.00</td>\n",
       "      <td>1313.76</td>\n",
       "      <td>0.0</td>\n",
       "      <td>12</td>\n",
       "      <td>2011</td>\n",
       "    </tr>\n",
       "    <tr>\n",
       "      <th>7</th>\n",
       "      <td>1288686</td>\n",
       "      <td>3000</td>\n",
       "      <td>3000</td>\n",
       "      <td>3000.0</td>\n",
       "      <td>36</td>\n",
       "      <td>18.64</td>\n",
       "      <td>109.43</td>\n",
       "      <td>E</td>\n",
       "      <td>E1</td>\n",
       "      <td>9.0</td>\n",
       "      <td>RENT</td>\n",
       "      <td>48000.0</td>\n",
       "      <td>Source Verified</td>\n",
       "      <td>2011-12-01</td>\n",
       "      <td>Fully Paid</td>\n",
       "      <td>car</td>\n",
       "      <td>CA</td>\n",
       "      <td>5.35</td>\n",
       "      <td>0</td>\n",
       "      <td>2</td>\n",
       "      <td>4</td>\n",
       "      <td>0</td>\n",
       "      <td>87.5</td>\n",
       "      <td>4</td>\n",
       "      <td>0.00</td>\n",
       "      <td>0.00</td>\n",
       "      <td>3939.14</td>\n",
       "      <td>3939.14</td>\n",
       "      <td>3000.00</td>\n",
       "      <td>939.14</td>\n",
       "      <td>0.00</td>\n",
       "      <td>0.00</td>\n",
       "      <td>111.34</td>\n",
       "      <td>0.0</td>\n",
       "      <td>12</td>\n",
       "      <td>2011</td>\n",
       "    </tr>\n",
       "    <tr>\n",
       "      <th>8</th>\n",
       "      <td>1306957</td>\n",
       "      <td>5600</td>\n",
       "      <td>5600</td>\n",
       "      <td>5600.0</td>\n",
       "      <td>60</td>\n",
       "      <td>21.28</td>\n",
       "      <td>152.39</td>\n",
       "      <td>F</td>\n",
       "      <td>F2</td>\n",
       "      <td>4.0</td>\n",
       "      <td>OWN</td>\n",
       "      <td>40000.0</td>\n",
       "      <td>Source Verified</td>\n",
       "      <td>2011-12-01</td>\n",
       "      <td>Charged Off</td>\n",
       "      <td>small_business</td>\n",
       "      <td>CA</td>\n",
       "      <td>5.55</td>\n",
       "      <td>0</td>\n",
       "      <td>2</td>\n",
       "      <td>11</td>\n",
       "      <td>0</td>\n",
       "      <td>32.6</td>\n",
       "      <td>13</td>\n",
       "      <td>0.00</td>\n",
       "      <td>0.00</td>\n",
       "      <td>646.02</td>\n",
       "      <td>646.02</td>\n",
       "      <td>162.02</td>\n",
       "      <td>294.94</td>\n",
       "      <td>0.00</td>\n",
       "      <td>189.06</td>\n",
       "      <td>152.39</td>\n",
       "      <td>0.0</td>\n",
       "      <td>12</td>\n",
       "      <td>2011</td>\n",
       "    </tr>\n",
       "    <tr>\n",
       "      <th>9</th>\n",
       "      <td>1306721</td>\n",
       "      <td>5375</td>\n",
       "      <td>5375</td>\n",
       "      <td>5350.0</td>\n",
       "      <td>60</td>\n",
       "      <td>12.69</td>\n",
       "      <td>121.45</td>\n",
       "      <td>B</td>\n",
       "      <td>B5</td>\n",
       "      <td>0.7</td>\n",
       "      <td>RENT</td>\n",
       "      <td>15000.0</td>\n",
       "      <td>Verified</td>\n",
       "      <td>2011-12-01</td>\n",
       "      <td>Charged Off</td>\n",
       "      <td>other</td>\n",
       "      <td>TX</td>\n",
       "      <td>18.08</td>\n",
       "      <td>0</td>\n",
       "      <td>0</td>\n",
       "      <td>2</td>\n",
       "      <td>0</td>\n",
       "      <td>36.5</td>\n",
       "      <td>3</td>\n",
       "      <td>0.00</td>\n",
       "      <td>0.00</td>\n",
       "      <td>1476.19</td>\n",
       "      <td>1469.34</td>\n",
       "      <td>673.48</td>\n",
       "      <td>533.42</td>\n",
       "      <td>0.00</td>\n",
       "      <td>269.29</td>\n",
       "      <td>121.45</td>\n",
       "      <td>0.0</td>\n",
       "      <td>12</td>\n",
       "      <td>2011</td>\n",
       "    </tr>\n",
       "  </tbody>\n",
       "</table>\n",
       "</div>"
      ],
      "text/plain": [
       "   member_id  loan_amnt  funded_amnt  funded_amnt_inv  term  int_rate  \\\n",
       "0    1296599       5000         5000           4975.0    36     10.65   \n",
       "1    1314167       2500         2500           2500.0    60     15.27   \n",
       "2    1313524       2400         2400           2400.0    36     15.96   \n",
       "3    1277178      10000        10000          10000.0    36     13.49   \n",
       "4    1311748       3000         3000           3000.0    60     12.69   \n",
       "5    1311441       5000         5000           5000.0    36      7.90   \n",
       "6    1304742       7000         7000           7000.0    60     15.96   \n",
       "7    1288686       3000         3000           3000.0    36     18.64   \n",
       "8    1306957       5600         5600           5600.0    60     21.28   \n",
       "9    1306721       5375         5375           5350.0    60     12.69   \n",
       "\n",
       "   installment grade sub_grade  emp_length home_ownership  annual_inc  \\\n",
       "0       162.87     B        B2        10.0           RENT     24000.0   \n",
       "1        59.83     C        C4         0.7           RENT     30000.0   \n",
       "2        84.33     C        C5        10.0           RENT     12252.0   \n",
       "3       339.31     C        C1        10.0           RENT     49200.0   \n",
       "4        67.79     B        B5         1.0           RENT     80000.0   \n",
       "5       156.46     A        A4         3.0           RENT     36000.0   \n",
       "6       170.08     C        C5         8.0           RENT     47004.0   \n",
       "7       109.43     E        E1         9.0           RENT     48000.0   \n",
       "8       152.39     F        F2         4.0            OWN     40000.0   \n",
       "9       121.45     B        B5         0.7           RENT     15000.0   \n",
       "\n",
       "  verification_status    issue_d  loan_status             purpose addr_state  \\\n",
       "0            Verified 2011-12-01   Fully Paid         credit_card         AZ   \n",
       "1     Source Verified 2011-12-01  Charged Off                 car         GA   \n",
       "2        Not Verified 2011-12-01   Fully Paid      small_business         IL   \n",
       "3     Source Verified 2011-12-01   Fully Paid               other         CA   \n",
       "4     Source Verified 2011-12-01      Current               other         OR   \n",
       "5     Source Verified 2011-12-01   Fully Paid             wedding         AZ   \n",
       "6        Not Verified 2011-12-01   Fully Paid  debt_consolidation         NC   \n",
       "7     Source Verified 2011-12-01   Fully Paid                 car         CA   \n",
       "8     Source Verified 2011-12-01  Charged Off      small_business         CA   \n",
       "9            Verified 2011-12-01  Charged Off               other         TX   \n",
       "\n",
       "     dti  delinq_2yrs  inq_last_6mths  open_acc  pub_rec  revol_util  \\\n",
       "0  27.65            0               1         3        0        83.7   \n",
       "1   1.00            0               5         3        0         9.4   \n",
       "2   8.72            0               2         2        0        98.5   \n",
       "3  20.00            0               1        10        0        21.0   \n",
       "4  17.94            0               0        15        0        53.9   \n",
       "5  11.20            0               3         9        0        28.3   \n",
       "6  23.51            0               1         7        0        85.6   \n",
       "7   5.35            0               2         4        0        87.5   \n",
       "8   5.55            0               2        11        0        32.6   \n",
       "9  18.08            0               0         2        0        36.5   \n",
       "\n",
       "   total_acc  out_prncp  out_prncp_inv  total_pymnt  total_pymnt_inv  \\\n",
       "0          9       0.00           0.00      5863.16          5833.84   \n",
       "1          4       0.00           0.00      1008.71          1008.71   \n",
       "2         10       0.00           0.00      3005.67          3005.67   \n",
       "3         37       0.00           0.00     12231.89         12231.89   \n",
       "4         38     524.06         524.06      3513.33          3513.33   \n",
       "5         12       0.00           0.00      5632.21          5632.21   \n",
       "6         11       0.00           0.00     10110.84         10110.84   \n",
       "7          4       0.00           0.00      3939.14          3939.14   \n",
       "8         13       0.00           0.00       646.02           646.02   \n",
       "9          3       0.00           0.00      1476.19          1469.34   \n",
       "\n",
       "   total_rec_prncp  total_rec_int  total_rec_late_fee  recoveries  \\\n",
       "0          5000.00         863.16                0.00        0.00   \n",
       "1           456.46         435.17                0.00      117.08   \n",
       "2          2400.00         605.67                0.00        0.00   \n",
       "3         10000.00        2214.92               16.97        0.00   \n",
       "4          2475.94        1037.39                0.00        0.00   \n",
       "5          5000.00         632.21                0.00        0.00   \n",
       "6          6985.61        3125.23                0.00        0.00   \n",
       "7          3000.00         939.14                0.00        0.00   \n",
       "8           162.02         294.94                0.00      189.06   \n",
       "9           673.48         533.42                0.00      269.29   \n",
       "\n",
       "   last_pymnt_amnt  pub_rec_bankruptcies  issue_d_month  issue_d_year  \n",
       "0           171.62                   0.0             12          2011  \n",
       "1           119.66                   0.0             12          2011  \n",
       "2           649.91                   0.0             12          2011  \n",
       "3           357.48                   0.0             12          2011  \n",
       "4            67.79                   0.0             12          2011  \n",
       "5           161.03                   0.0             12          2011  \n",
       "6          1313.76                   0.0             12          2011  \n",
       "7           111.34                   0.0             12          2011  \n",
       "8           152.39                   0.0             12          2011  \n",
       "9           121.45                   0.0             12          2011  "
      ]
     },
     "execution_count": 14,
     "metadata": {},
     "output_type": "execute_result"
    }
   ],
   "source": [
    "loan.head(10)"
   ]
  },
  {
   "cell_type": "markdown",
   "id": "c5272adf-c8dc-471d-b3c0-faffdd936420",
   "metadata": {
    "id": "c5272adf-c8dc-471d-b3c0-faffdd936420"
   },
   "source": [
    "---\n",
    "### Finding and cleaning **Outliers**\n"
   ]
  },
  {
   "cell_type": "code",
   "execution_count": 15,
   "id": "2abdbcb9-b567-4a5e-9c3a-c63b84b99b6b",
   "metadata": {
    "id": "2abdbcb9-b567-4a5e-9c3a-c63b84b99b6b",
    "outputId": "36d83a64-0910-4b3e-cecd-cc65f1ddaa5d",
    "scrolled": true
   },
   "outputs": [
    {
     "name": "stdout",
     "output_type": "stream",
     "text": [
      "\n",
      "Loan Amount Quantiles\n",
      "0.50    10000.0\n",
      "0.75    15000.0\n",
      "0.90    22000.0\n",
      "0.95    25000.0\n",
      "0.97    30000.0\n",
      "0.98    31468.0\n",
      "0.99    35000.0\n",
      "Name: loan_amnt, dtype: float64\n"
     ]
    },
    {
     "data": {
      "image/png": "[encoded data removed]",
      "text/plain": [
       "<Figure size 600x300 with 1 Axes>"
      ]
     },
     "metadata": {},
     "output_type": "display_data"
    },
    {
     "name": "stdout",
     "output_type": "stream",
     "text": [
      "\n",
      "Interest Rate Quantiles\n",
      "0.50    11.86\n",
      "0.75    14.59\n",
      "0.90    16.89\n",
      "0.95    18.54\n",
      "0.97    19.42\n",
      "0.98    20.25\n",
      "0.99    20.99\n",
      "Name: int_rate, dtype: float64\n"
     ]
    },
    {
     "data": {
      "image/png": "[encoded data removed]",
      "text/plain": [
       "<Figure size 600x300 with 1 Axes>"
      ]
     },
     "metadata": {},
     "output_type": "display_data"
    },
    {
     "name": "stdout",
     "output_type": "stream",
     "text": [
      "\n",
      "Annual Income Quantiles\n",
      "0.50     59000.00\n",
      "0.75     82300.00\n",
      "0.90    116000.00\n",
      "0.95    142000.00\n",
      "0.97    165757.92\n",
      "0.98    187000.00\n",
      "0.99    234999.36\n",
      "Name: annual_inc, dtype: float64\n"
     ]
    },
    {
     "data": {
      "image/png": "[encoded data removed]",
      "text/plain": [
       "<Figure size 600x300 with 1 Axes>"
      ]
     },
     "metadata": {},
     "output_type": "display_data"
    },
    {
     "name": "stdout",
     "output_type": "stream",
     "text": [
      "\n",
      "Debt to Income Ratio Quantiles\n",
      "0.50    13.40\n",
      "0.75    18.60\n",
      "0.90    22.33\n",
      "0.95    23.84\n",
      "0.97    24.54\n",
      "0.98    24.88\n",
      "0.99    26.68\n",
      "Name: dti, dtype: float64\n"
     ]
    },
    {
     "data": {
      "image/png": "[encoded data removed]",
      "text/plain": [
       "<Figure size 600x300 with 1 Axes>"
      ]
     },
     "metadata": {},
     "output_type": "display_data"
    }
   ],
   "source": [
    "numerical_cols = ['loan_amnt', 'int_rate', 'annual_inc', 'dti']\n",
    "numerical_col_desc = {\n",
    "    'loan_amnt': 'Loan Amount',\n",
    "    'int_rate': 'Interest Rate',\n",
    "    'annual_inc': 'Annual Income',\n",
    "    'dti': 'Debt to Income Ratio'\n",
    "}\n",
    "for col in numerical_cols:\n",
    "    quantile = loan[col].quantile([0.5, 0.75,0.90, 0.95, 0.97,0.98, 0.99])\n",
    "    print('\\n' + numerical_col_desc[col] + ' Quantiles')\n",
    "    print(quantile)\n",
    "    plt.figure(figsize=(6, 3))\n",
    "    sns.boxplot(x=loan[col]).set(\n",
    "        xlabel=numerical_col_desc[col] + ' (' +col+ ')'\n",
    "    )\n",
    "    plt.title(f'Box Plot of {numerical_col_desc[col]}')\n",
    "    plt.show()"
   ]
  },
  {
   "cell_type": "code",
   "execution_count": 16,
   "id": "1d1f0860-6ec3-4418-bf42-7073f19bf2dc",
   "metadata": {
    "id": "1d1f0860-6ec3-4418-bf42-7073f19bf2dc",
    "outputId": "36049a59-1f61-4100-ccb2-7eac82699b5f"
   },
   "outputs": [
    {
     "data": {
      "text/plain": [
       "(37743, 36)"
      ]
     },
     "execution_count": 16,
     "metadata": {},
     "output_type": "execute_result"
    }
   ],
   "source": [
    "## Removing Outliers\n",
    "# Annual Income starts increasing exponentially from 95 Percentile onwards, so they need to be removed\n",
    "per_95_annual_inc = loan['annual_inc'].quantile(0.95)\n",
    "loan = loan[loan['annual_inc']<=per_95_annual_inc]\n",
    "\n",
    "loan.shape"
   ]
  },
  {
   "cell_type": "markdown",
   "id": "7a9588a2-b41e-4551-98e2-3613dd62c438",
   "metadata": {},
   "source": [
    "### <font color=blue>Inference:</font>\n",
    "**Based on boxplots Annual Income had the most outliers above 95 percentile and have been removed**"
   ]
  },
  {
   "cell_type": "code",
   "execution_count": 17,
   "id": "9e2725a0-cd0f-42d3-a8ab-46d944955fb3",
   "metadata": {
    "id": "9e2725a0-cd0f-42d3-a8ab-46d944955fb3",
    "outputId": "073685a7-5224-4595-8334-55e5b17512a1"
   },
   "outputs": [
    {
     "data": {
      "text/plain": [
       "(36689, 36)"
      ]
     },
     "execution_count": 17,
     "metadata": {},
     "output_type": "execute_result"
    }
   ],
   "source": [
    "## Removing records with Current loan status, since they can/ cannot change to Fully Paid or Charged off\n",
    "loan = loan[~(loan['loan_status']=='Current')]\n",
    "\n",
    "loan.shape"
   ]
  },
  {
   "cell_type": "markdown",
   "id": "c552c72a-b080-445f-9d5e-bf8268c609aa",
   "metadata": {},
   "source": [
    "### <font color=blue>Inference:</font>\n",
    "**Records with 'Current' loan status cannot be considered in evaluation since they can either pay out fully or default loan**"
   ]
  },
  {
   "cell_type": "markdown",
   "id": "b4e5b0b3-1d45-4bff-80d9-7ecb90d0180e",
   "metadata": {},
   "source": [
    "### <font color=green>Univariate Analysis</font>"
   ]
  },
  {
   "cell_type": "code",
   "execution_count": null,
   "id": "df544cd5-1983-4efa-a5bb-3c6d4bebb170",
   "metadata": {
    "scrolled": true
   },
   "outputs": [],
   "source": [
    "numerical_cols = ['loan_amnt', 'int_rate', 'annual_inc', 'dti', 'term']\n",
    "\n",
    "for col in numerical_cols:\n",
    "    plt.figure(figsize=(10, 5))\n",
    "    sns.distplot(sorted(loan[col]),kde=True,bins=20)\n",
    "    plt.title(f'Distribution of {col}')\n",
    "    plt.show()"
   ]
  },
  {
   "cell_type": "markdown",
   "id": "c6f7d696-aee3-4f17-bfe5-2fe003ac73b2",
   "metadata": {},
   "source": [
    "### <font color=blue>Inference:</font>\n",
    "<ul>\n",
    "    <li><b>Loan Amount</b>: Most loans are small to moderate amounts with a few large loans.</li>\n",
    "    <li><b>Interest Rate</b>: Interest rates vary, but there might be common rates around certain values.</li>\n",
    "    <li><b>Annual Income</b>: Most borrowers have moderate incomes; a few have very high incomes.</li>\n",
    "    <li><b>Debt-to-Income Ratio</b>: Most borrowers have a manageable Debt To Income ratio, but some might have higher values indicating more debt.</li>\n",
    "    <li><b>Term</b>: A significant proportion of loans are of term 36months</li>\n",
    "</ul>"
   ]
  },
  {
   "cell_type": "code",
   "execution_count": null,
   "id": "8fb4c6fa-3fb6-4e0a-be08-8dd78b47cf08",
   "metadata": {
    "scrolled": true
   },
   "outputs": [],
   "source": [
    "# Proportion of charged off loans with Public bankruptcy records or derogatory public records\n",
    "loan_charged_off = loan[loan['loan_status'] == 'Charged Off']\n",
    "loan_charged_off['pub_rec_bankruptcies'].value_counts().plot.pie(autopct='%1.1f%%')\n",
    "plt.title('Proportion of Public record bankruptcies')\n",
    "plt.ylabel('')\n",
    "plt.show()\n",
    "\n",
    "loan_charged_off['pub_rec'].value_counts().plot.pie(autopct='%1.1f%%')\n",
    "plt.title('Proportion of Derogatory public records')\n",
    "plt.ylabel('')\n",
    "plt.show()\n"
   ]
  },
  {
   "cell_type": "markdown",
   "id": "dc3ee2d6-3b0b-45d3-b64d-a1b1bcfd572e",
   "metadata": {},
   "source": [
    "### <font color=blue>Inference:</font>\n",
    "\n",
    "<ul>\n",
    "    <li><b>Public record bankruptcies:</b> A very small percentage of loan defaulters have filed bankruptcies.</li>\n",
    "    <li><b>Derogatory public records:</b> A very small percentage of loan defaulters have derogatory public records.</li>\n",
    "</ul>\n",
    "\n",
    "**Although these can be high risk customers to lend** "
   ]
  },
  {
   "cell_type": "code",
   "execution_count": null,
   "id": "9556a75e-839b-46ea-9d4d-e52bd081dc51",
   "metadata": {},
   "outputs": [],
   "source": [
    "# Distribution of employment Length on Charged Off loans\n",
    "plt.figure(figsize=(10,5))\n",
    "sns.countplot(x='emp_length', data=loan[loan['loan_status'] == 'Charged Off'])\n",
    "plt.xlabel('Employment Length')\n",
    "plt.ylabel('Count')\n",
    "plt.title('Distribution of Employment Length')\n",
    "plt.show()"
   ]
  },
  {
   "cell_type": "markdown",
   "id": "edae112c-d754-4fba-862e-58315ffa1018",
   "metadata": {},
   "source": [
    "### <font color=blue>Inference:</font>\n",
    "\n",
    "**Majority of the Charged off loans belong to customers with employment length around 10 and above years**"
   ]
  },
  {
   "cell_type": "code",
   "execution_count": null,
   "id": "09cfe5b2-6b5a-409b-a7a8-fa90cf06550d",
   "metadata": {},
   "outputs": [],
   "source": [
    "# Distribution of employment Length on Charged Off loans\n",
    "plt.figure(figsize=(10,5))\n",
    "sns.countplot(x='purpose', data=loan[loan['loan_status'] == 'Charged Off'])\n",
    "plt.xlabel('Purpose of loan')\n",
    "plt.xticks(rotation=90)\n",
    "plt.ylabel('Count')\n",
    "plt.title('Distribution of Purpose of Loan')\n",
    "plt.show()"
   ]
  },
  {
   "cell_type": "markdown",
   "id": "fdabdede-af13-4770-92cc-d8171112aa2c",
   "metadata": {},
   "source": [
    "### <font color=blue>Inference:</font>\n",
    "\n",
    "**Majority of the Charged off loans belong to customers who took loan for purpose of another debt consolidation**"
   ]
  },
  {
   "cell_type": "code",
   "execution_count": null,
   "id": "2ff17e8f-8e00-478e-8925-4420b549e8b2",
   "metadata": {},
   "outputs": [],
   "source": [
    "# Distribution of employment Length on Charged Off loans\n",
    "plt.figure(figsize=(10,5))\n",
    "sns.countplot(x='home_ownership', data=loan[loan['loan_status'] == 'Charged Off'])\n",
    "plt.xlabel('Home Ownership Type')\n",
    "plt.ylabel('Count')\n",
    "plt.title('Distribution of Home Ownership Type')\n",
    "plt.show()"
   ]
  },
  {
   "cell_type": "markdown",
   "id": "9ad3f80c-6701-451a-8f09-8d700e292547",
   "metadata": {},
   "source": [
    "### <font color=blue>Inference:</font>\n",
    "\n",
    "**Majority of the Charged off loans belong to customers who live in a rented place and second to it who already have mortgage on their homes**"
   ]
  },
  {
   "cell_type": "markdown",
   "id": "391bdcd4-117a-4530-8be9-38eb3e777f1a",
   "metadata": {},
   "source": [
    "---"
   ]
  },
  {
   "cell_type": "markdown",
   "id": "d353a0a7",
   "metadata": {
    "id": "d353a0a7"
   },
   "source": [
    "### <font color=green>Bivariate Analysis</font>"
   ]
  },
  {
   "cell_type": "code",
   "execution_count": null,
   "id": "74cdd25e-161c-4b8c-9c72-b72c50e8d6cf",
   "metadata": {},
   "outputs": [],
   "source": [
    "# Create Bins for int_rate,open_acc,revol_util,total_acc\n",
    "loan['open_acc_groups'] = pd.cut(loan['open_acc'],bins = 5,precision =0,labels=['2-10','10-19','19-27','27-36','36-44'])\n",
    "loan['total_acc_groups'] = pd.cut(loan['total_acc'], bins=5,precision =0,labels=['2-20','20-37','37-55','55-74','74-90'])\n",
    "loan['annual_inc_groups'] = pd.cut(loan['annual_inc'], bins=5,precision =0,labels =['3k-31k','31k-58k','58k-85k','85k-112k','112k-140k'])\n",
    "loan['loan_amnt_groups'] = pd.cut(loan['open_acc'],bins = 7,precision =0,labels=['0-5000', '5000-10000', '10000-15000', '15000-20000', '20000-25000', '25000-30000', '30000-36000'])\n",
    "loan['int_rate_groups'] = pd.cut(loan['int_rate'], bins=5,precision =0,labels=['5%-9%','9%-13%','13%-17%','17%-21%','21%-24%'])"
   ]
  },
  {
   "cell_type": "code",
   "execution_count": null,
   "id": "45ae5e70-f5e3-4f03-a013-1f59ae1b8c0b",
   "metadata": {
    "id": "45ae5e70-f5e3-4f03-a013-1f59ae1b8c0b"
   },
   "outputs": [],
   "source": [
    "## Show the count plot \n",
    "fig, ax = plt.subplots(figsize = (25,10))\n",
    "plt.subplot(221)\n",
    "sns.countplot(x='int_rate_groups', hue='loan_status', data=loan)\n",
    "plt.xlabel('Interest Rate')\n",
    "\n",
    "plt.subplot(222)\n",
    "sns.countplot(x='emp_length', hue='loan_status', data=loan)\n",
    "plt.xlabel('Length of employment')\n",
    "\n",
    "plt.subplot(223)\n",
    "sns.countplot(x='annual_inc_groups', hue='loan_status', data=loan)\n",
    "plt.xlabel('Annual Income groups')\n",
    "\n",
    "plt.subplot(224)\n",
    "sns.countplot(x = 'verification_status', data = loan, hue='loan_status')\n",
    "plt.xlabel('Verification Status')\n"
   ]
  },
  {
   "cell_type": "markdown",
   "id": "071b79e5-600f-4c96-bc1d-7a84b141c01c",
   "metadata": {},
   "source": [
    "### <font color=blue>Inference:</font>\n",
    "##### Factors showing higher charged off loans\n",
    "1. <b>Interest Rate:</b> Higher interest rates correlate with a higher risk of loan default.\n",
    "2. <b>Length of Employment:</b> Stable, long-term employment is associated with better loan repayment, though it's not a strong standalone predictor.\n",
    "3. <b>Annual Income Groups:</b> Higher annual incomes (above 58k) are associated with a higher likelihood of fully repaying loans. Lower income groups (3k-31k) show a higher risk of default, suggesting that income level is an important factor in assessing loan repayment capability.\n",
    "4. <b>Verification Status:</b> Verified income and employment significantly reduce the risk of loan default."
   ]
  },
  {
   "cell_type": "code",
   "execution_count": null,
   "id": "a7a7e6e8-eba7-4ffc-bbc7-18045f3424bb",
   "metadata": {},
   "outputs": [],
   "source": [
    "# Comparison of interest rate based on grade\n",
    "plt.figure(figsize=(10,5))\n",
    "sns.boxplot(data=loan[loan['loan_status'] == 'Charged Off'],x='int_rate',y='grade')\n",
    "plt.xlabel('Interest Rate')\n",
    "plt.ylabel('Grade')\n",
    "plt.title('Comparison of Interest Rate Based On Grade',fontsize=12)\n",
    "plt.show()"
   ]
  },
  {
   "cell_type": "code",
   "execution_count": null,
   "id": "ad3ec995-b941-4056-afa1-c50c779ac541",
   "metadata": {},
   "outputs": [],
   "source": [
    "# Convert subgrade to numeric data for plotting countplot\n",
    "loan.sub_grade = pd.to_numeric(loan.sub_grade.apply(lambda x : x[-1]))\n",
    "loan.sub_grade.head(5)"
   ]
  },
  {
   "cell_type": "code",
   "execution_count": null,
   "id": "7d04c990-4bf3-4cde-864e-98d79816c9fe",
   "metadata": {},
   "outputs": [],
   "source": [
    "# Countplot of subgrades for Charged off\n",
    "\n",
    "# fig, ax = plt.subplots(figsize=(12,7))\n",
    "fig, ax = plt.subplots(figsize=(12,7))\n",
    "sns.set_palette('colorblind')\n",
    "sns.countplot(x = 'grade', order = ['A', 'B', 'C', 'D', 'E', 'F', 'G'] , hue = 'sub_grade',data = loan[loan.loan_status == 'Charged Off'])\n"
   ]
  },
  {
   "cell_type": "markdown",
   "id": "05461c07-ffb4-488c-af9f-218cc88887a8",
   "metadata": {},
   "source": [
    "### <font color=blue>Inference:</font>\n",
    "##### Grades\n",
    "1. <b>Higher Grades (A, B):</b> Likely to have fewer charged-off loans due to lower risk.\n",
    "2. <b>Moderate Grades (C, D):</b> Higher likelihood of charged-off loans compared to higher grades.\n",
    "3. <b>Lower Grades (E, F, G):</b> Higher risk categories with more charged-off loans.\n"
   ]
  },
  {
   "cell_type": "code",
   "execution_count": null,
   "id": "75754800-a849-4dba-8d88-a5cb89db94ad",
   "metadata": {
    "id": "75754800-a849-4dba-8d88-a5cb89db94ad"
   },
   "outputs": [],
   "source": [
    "# Scatter plot of Loan amount vs Interest rates\n",
    "fig = px.scatter(loan, x='loan_amnt', y='int_rate', title='Loan Amount vs Interest Rate', color=\"loan_status\", marginal_x=\"histogram\", marginal_y=\"histogram\", width=1100, height=600, trendline=\"ols\", trendline_scope=\"overall\")\n",
    "fig.update_layout(\n",
    "    xaxis_title=\"Loan Amount\",\n",
    "    yaxis_title=\"Interest Rate\",\n",
    "    legend_title=\"Loan Status\",\n",
    "    paper_bgcolor=\"LightBlue\"\n",
    ")\n",
    "\n",
    "fig.show()"
   ]
  },
  {
   "cell_type": "markdown",
   "id": "2e38aeb7-f11c-4018-9136-c1e4eeddd336",
   "metadata": {},
   "source": [
    "### <font color=blue>Inference:</font>\n",
    "1. <b>Higher Interest Rates:</b> Charged Off loans are more concentrated at higher interest rates, suggesting that borrowers with higher interest rates are at a greater risk of default.\n",
    "2. <b>Loan Amounts:</b> There is no clear differentiation in loan amounts between Fully Paid and Charged Off loans, indicating that loan amount alone may not be a strong predictor of default.\n",
    "3. <b>Combined Effect:</b> While higher loan amounts are generally associated with higher interest rates, the risk of default appears to be more closely related to the interest rate rather than the loan amount."
   ]
  },
  {
   "cell_type": "code",
   "execution_count": null,
   "id": "ee802986-1230-41a8-bc74-9de870e72872",
   "metadata": {
    "id": "ee802986-1230-41a8-bc74-9de870e72872"
   },
   "outputs": [],
   "source": [
    "# Scatter plot to derive metrics for Loan amount vs Public Record Bankruptcies\n",
    "fig = px.scatter(loan[loan['loan_status'] == 'Charged Off'], x='pub_rec_bankruptcies', y='annual_inc', title='Loan Amount vs Public Record of Bankruptcies', color=\"loan_status\", marginal_x=\"histogram\", marginal_y=\"histogram\", width=1100, height=600, trendline=\"ols\", trendline_scope=\"overall\")\n",
    "fig.update_layout(\n",
    "    xaxis_title=\"Public Record of Bankruptcies\",\n",
    "    yaxis_title=\"Loan Amount\",\n",
    "    legend_title=\"Loan Status\",\n",
    "    paper_bgcolor=\"LightBlue\"\n",
    ")"
   ]
  },
  {
   "cell_type": "markdown",
   "id": "d65c032c-7b45-433e-bd5e-3fcac82e6896",
   "metadata": {},
   "source": [
    "### <font color=blue>Inference:</font>\n",
    "**Loan amount vs Public Record of Bankruptcies is inconclusive to derive a loan amount range that is relative to bankruptcies**"
   ]
  },
  {
   "cell_type": "code",
   "execution_count": null,
   "id": "3194b8f5-0ba0-4892-834c-651d3a0075be",
   "metadata": {},
   "outputs": [],
   "source": [
    "# Plotly Box Plot interest rate vs loan status\n",
    "fig = px.box(loan, x='loan_status', y='int_rate', title='Interest Rate vs Loan Status')\n",
    "fig.show()\n",
    "# Plotly Box Plot Annual Income vs Loan Status\n",
    "fig = px.box(loan, x='loan_status', y='annual_inc', title='Annual Income vs Loan Status')\n",
    "fig.show()\n",
    "# Plotly Box Plot Debt to Income Ratio vs Loan Status\n",
    "fig = px.box(loan, x='loan_status', y='dti', title='Debt to Income Ratio vs Loan Status')\n",
    "fig.show()"
   ]
  },
  {
   "cell_type": "markdown",
   "id": "ea0d45f8-47ec-4a96-b95d-da87589bfb4b",
   "metadata": {},
   "source": [
    "### <font color=blue>Inference:</font>\n",
    "##### Maximum number of loan defaulters(Charged Off loan_status) were in the following ranges:\n",
    "<ul>\n",
    "<li>Interest Rate - <b>11.26 - 16.32</b> </li>\n",
    "<li>Annual Income - <b>36.3k - 71.67k</b> </li>\n",
    "<li>Debt to Income Ratio - <b>9.18 - 19.40</b> </li>\n",
    "</ul>"
   ]
  },
  {
   "cell_type": "code",
   "execution_count": null,
   "id": "176af984-e497-4c83-adb6-af80c0657d4d",
   "metadata": {},
   "outputs": [],
   "source": [
    "# Lineplot for timeline of defaulters\n",
    "plt.figure(figsize=(20,20))\n",
    "plt.subplot(221)\n",
    "sns.lineplot(data =loan,y='loan_amnt', x='issue_d_month', hue ='loan_status',palette=\"mako\")\n",
    "plt.subplot(222)\n",
    "sns.lineplot(data =loan,y='loan_amnt', x='issue_d_year', hue ='loan_status',palette=\"mako\")"
   ]
  },
  {
   "cell_type": "markdown",
   "id": "d5f265d1-3e02-4904-bedf-dbdd19e7d187",
   "metadata": {},
   "source": [
    "### <font color=blue>Inference:</font>\n",
    "##### Highest number loan defaulters(Charged Off loan_status) are as follows:\n",
    "<ul>\n",
    "<li>Requested loan during the month - <b>December</b> </li>\n",
    "<li>Requested loan during the year - <b>2011</b> </li>\n",
    "</ul>"
   ]
  },
  {
   "cell_type": "code",
   "execution_count": null,
   "id": "d7029b86-76f0-4205-a214-1685f03e4dca",
   "metadata": {},
   "outputs": [],
   "source": [
    "# Count plots for purpose and customer state vs loan_status\n",
    "sns.countplot(x='purpose', hue='loan_status', data=loan)\n",
    "plt.title('Purpose vs Loan Status')\n",
    "plt.xticks(rotation=90)\n",
    "plt.show()\n",
    "\n",
    "plt.figure(figsize=(20,6))\n",
    "sns.countplot(x='addr_state', hue='loan_status', data=loan)\n",
    "plt.title('Purpose vs Loan Status')\n",
    "plt.xticks(rotation=90)\n",
    "plt.show()\n"
   ]
  },
  {
   "cell_type": "markdown",
   "id": "00bc07a2-d987-423e-8c35-503d71082cb2",
   "metadata": {},
   "source": [
    "### <font color=blue>Inference:</font>\n",
    "##### Highest number loan defaulters(Charged Off loan_status) are as follows:\n",
    "<ul>\n",
    "<li>Requested loan for Purpose - <b>Debt Consolidation</b> </li>\n",
    "<li>Requested loan from State - <b>CA - California</b> </li>\n",
    "</ul>"
   ]
  },
  {
   "cell_type": "code",
   "execution_count": null,
   "id": "f06e86ac-163d-4d9c-9ddb-c6ae11aca927",
   "metadata": {},
   "outputs": [],
   "source": [
    "# Plot histograms for different bins of relevant numeric data\n",
    "column_bins = ['int_rate_groups', 'open_acc_groups', 'total_acc_groups', 'annual_inc_groups', 'loan_amnt_groups']\n",
    "column_bins_desc = ['Intereset Rate Groups', 'Open Account Groups', 'Total Account Groups', 'Annual Income Groups', 'Loan Amount Groups']\n",
    "for (index, cols) in enumerate(column_bins):\n",
    "    fig = px.histogram(loan, x=cols, color='loan_status', barmode='group',\n",
    "                   title=column_bins_desc[index] + ' vs Loan Status')\n",
    "    fig.update_layout(\n",
    "        xaxis_title=column_bins_desc[index],\n",
    "        yaxis_title=\"\",\n",
    "        legend_title=\"Loan Status\",\n",
    "        title=dict(x=0.5, y=0.95),\n",
    "        font=dict(color=\"#939393\", size=14),\n",
    "        title_font_size=16,\n",
    "        title_font_color=\"#939393\",\n",
    "        plot_bgcolor='#E3E2E2'\n",
    "    )\n",
    "    fig.show()"
   ]
  },
  {
   "cell_type": "markdown",
   "id": "6dac090c-c784-4be3-82ef-8d7b716e6a7e",
   "metadata": {},
   "source": [
    "### <font color=blue>Inference:</font>\n",
    "##### Highest number loan defaulters(Charged Off loan_status) are as follows:\n",
    "<ul>\n",
    "<li><b>9%-17% Interest rates</b> </li>\n",
    "<li><b>2-10 open credit lines</b> </li>\n",
    "<li><b>2-37 total credit lines currently in the borrower's credit file</b> </li>\n",
    "<li><b>31k - 85k Annual Income</b> </li>\n",
    "<li><b>5k - 10k Loan Amount</b> </li>\n",
    "</ul>"
   ]
  },
  {
   "cell_type": "markdown",
   "id": "f9ce8bec-6a65-43ec-9e39-c40c0eb482af",
   "metadata": {},
   "source": [
    "### <font color=green>Multivariate Analysis</font>\n",
    "\n",
    "Based on relevant numeric columns against loan_status( Charged Off, Fully Paid )"
   ]
  },
  {
   "cell_type": "code",
   "execution_count": null,
   "id": "5aab7a84-6e30-4b9a-a682-4a4a73d80508",
   "metadata": {},
   "outputs": [],
   "source": [
    "numeric_cols = ['loan_amnt', 'int_rate', 'annual_inc', 'dti', 'open_acc', 'total_acc', 'revol_util', 'pub_rec_bankruptcies', 'issue_d_year', 'issue_d_month']\n",
    "# Pair plot for deriving dependant factors for defaulting loan\n",
    "sns.pairplot(loan[numeric_cols + ['loan_status']], hue='loan_status', diag_kind='auto')\n",
    "\n",
    "# Show plot\n",
    "plt.show()"
   ]
  },
  {
   "cell_type": "code",
   "execution_count": null,
   "id": "e4951dee-a362-4697-9330-8deb66d645a0",
   "metadata": {
    "id": "e4951dee-a362-4697-9330-8deb66d645a0"
   },
   "outputs": [],
   "source": [
    "# Compute correlation matrix and draw a heatmap\n",
    "correlation_matrix = loan[numeric_cols].corr()\n",
    "print(correlation_matrix)\n",
    "fig = px.imshow(correlation_matrix, text_auto=True, color_continuous_scale='RdBu_r', zmin=-1, zmax=1, width=800, height=800)\n",
    "fig.update_layout(title='Correlation Matrix of Numeric Columns')\n",
    "fig.show()"
   ]
  },
  {
   "cell_type": "markdown",
   "id": "22966f6a-d7d4-4e4d-96f2-9b6d0703f2e3",
   "metadata": {},
   "source": [
    "### <font color=blue>Inference:</font>\n",
    "<ul>\n",
    "<li>Higher interest rates, high DTI ratios, and high revolving utilization are key indicators of higher default risk.</li>\n",
    "<li>Lower annual income may also contribute to higher default risk.</li>\n",
    "</ul>"
   ]
  },
  {
   "cell_type": "code",
   "execution_count": null,
   "id": "68401c5d-2e59-4cec-b6a0-ae035e90b59d",
   "metadata": {},
   "outputs": [],
   "source": [
    "# Create a scatter matrix of relevant numeric columns\n",
    "fig = px.scatter_matrix(loan,\n",
    "    dimensions=numeric_cols,\n",
    "    width=1200, height=1000,\n",
    "    color=\"loan_status\")\n",
    "fig.show()"
   ]
  },
  {
   "cell_type": "markdown",
   "id": "427a7d58-ae7f-4352-90c9-4d34bf0d56a4",
   "metadata": {},
   "source": [
    "### <font color=blue>Inference:</font>\n",
    "<ul>\n",
    "<li><b>Interest Rate (int_rate):</b> Higher rates are associated with higher default risk.</li>\n",
    "<li><b>Annual Income (annual_inc):</b> Lower incomes are linked to higher default rates.</li>\n",
    "<li><b>Debt-to-Income Ratio (dti):</b> Higher DTI ratios are indicative of higher default risk.</li>\n",
    "<li><b>Revolving Utilization (revol_util):</b> Higher utilization rates correlate with higher default risk.</li>\n",
    "<li><b>Public Record Bankruptcies (pub_rec_bankruptcies):</b> History of bankruptcies increases default likelihood.</li>\n",
    "</ul>"
   ]
  },
  {
   "cell_type": "code",
   "execution_count": null,
   "id": "6d689396-1f2c-406a-b5a2-4aefe04c9e96",
   "metadata": {},
   "outputs": [],
   "source": []
  }
 ],
 "metadata": {
  "colab": {
   "provenance": []
  },
  "kernelspec": {
   "display_name": "Python 3 (ipykernel)",
   "language": "python",
   "name": "python3"
  },
  "language_info": {
   "codemirror_mode": {
    "name": "ipython",
    "version": 3
   },
   "file_extension": ".py",
   "mimetype": "text/x-python",
   "name": "python",
   "nbconvert_exporter": "python",
   "pygments_lexer": "ipython3",
   "version": "3.11.5"
  }
 },
 "nbformat": 4,
 "nbformat_minor": 5
}
